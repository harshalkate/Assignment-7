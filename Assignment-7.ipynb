{
  "nbformat": 4,
  "nbformat_minor": 0,
  "metadata": {
    "colab": {
      "provenance": []
    },
    "kernelspec": {
      "name": "python3",
      "display_name": "Python 3"
    },
    "language_info": {
      "name": "python"
    }
  },
  "cells": [
    {
      "cell_type": "markdown",
      "source": [
        "Q.1. Create two int type variables, apply addition, subtraction, division and multiplications\n",
        "and store the results in variables. Then print the data in the following format by calling the\n",
        "variables:\n",
        "First variable is __ & second variable is __.\n",
        "Addition: __ + __ = __\n",
        "Subtraction: __ - __ = __\n",
        "Multiplication: __ * __ = __\n",
        "Division: __ / __ = __"
      ],
      "metadata": {
        "id": "kx-KmJ4N4kKe"
      }
    },
    {
      "cell_type": "code",
      "source": [
        "# Created two int type variables\n",
        "num1 = 10\n",
        "num2 = 5\n",
        "\n",
        "# using arithmetic operations\n",
        "addition = num1 + num2\n",
        "subtraction = num1 - num2\n",
        "multiplication = num1 * num2\n",
        "division = num1 / num2\n",
        "\n",
        "# Print the results in the specific' format\n",
        "print(\"First variable is\", num1, \"& second variable is\", num2)\n",
        "print(\"Addition:\", num1, \"+\", num2, \"=\", addition)\n",
        "print(\"Subtraction:\", num1, \"-\", num2, \"=\", subtraction)\n",
        "print(\"Multiplication:\", num1, \"*\", num2, \"=\", multiplication)\n",
        "print(\"Division:\", num1, \"/\", num2, \"=\", division)\n",
        "\n"
      ],
      "metadata": {
        "colab": {
          "base_uri": "https://localhost:8080/"
        },
        "id": "sd5wy-Qr4dRO",
        "outputId": "1366e48d-c3ab-423b-a4b2-053f432f5c60"
      },
      "execution_count": 2,
      "outputs": [
        {
          "output_type": "stream",
          "name": "stdout",
          "text": [
            "First variable is 10 & second variable is 5\n",
            "Addition: 10 + 5 = 15\n",
            "Subtraction: 10 - 5 = 5\n",
            "Multiplication: 10 * 5 = 50\n",
            "Division: 10 / 5 = 2.0\n"
          ]
        }
      ]
    },
    {
      "cell_type": "markdown",
      "source": [
        "Q.2. What is the difference between the following operators:\n",
        "(i) ‘/’ & ‘//’\n",
        "(ii) ‘**’ & ‘^’"
      ],
      "metadata": {
        "id": "uY7v7wCE5VzD"
      }
    },
    {
      "cell_type": "markdown",
      "source": [
        "(i) / and //:\n",
        "\n",
        "/ is the division operator in Python. It performs normal division, and the result is always a float.\n",
        "// is the floor division operator in Python. It divides the left operand by the right operand and returns the largest integer value that is less than or equal to the quotient. The result is an integer if both operands are integers; otherwise, it's a float.\n",
        "(ii) ** and ^:\n",
        "\n",
        "** is the exponentiation operator in Python. It raises the left operand to the power of the right operand.\n",
        "^ is the bitwise XOR operator in Python. It returns 1 if the bits are different, otherwise 0."
      ],
      "metadata": {
        "id": "4WggjbGH6cfL"
      }
    },
    {
      "cell_type": "markdown",
      "source": [
        "Q.3. List the logical operators"
      ],
      "metadata": {
        "id": "vXEjyHXm8FvR"
      }
    },
    {
      "cell_type": "markdown",
      "source": [
        "Ans:\n",
        "and: Returns True if both operands are True, otherwise returns False.\n",
        "or: Returns True if at least one of the operands is True, otherwise returns False.\n",
        "not: Returns True if the operand is False, and False if the operand is True. It negates the operand."
      ],
      "metadata": {
        "id": "sEs71j_O8hCQ"
      }
    },
    {
      "cell_type": "markdown",
      "source": [
        "Q.4. Explain right shift operator and left shift operator with examples."
      ],
      "metadata": {
        "id": "R-103YLg8jzd"
      }
    },
    {
      "cell_type": "markdown",
      "source": [
        "Ans:\n",
        "Right Shift (>>): This operator shifts the bits of a number towards the right by a specified number of positions. It fills the vacated positions on the left with the sign bit (for signed numbers) or with zeros (for unsigned numbers).\n",
        "\n",
        "Left Shift (<<): This operator shifts the bits of a number towards the left by a specified number of positions. It fills the vacated positions on the right with zeros."
      ],
      "metadata": {
        "id": "vbUmROes8tP5"
      }
    },
    {
      "cell_type": "code",
      "source": [
        "# Right Shift (>>)\n",
        "x = 8\n",
        "shifted_right = x >> 2  # Shifting right by 2 positions\n",
        "print(\"Original:\", bin(x))           # Output: 0b1000\n",
        "print(\"Shifted Right:\", bin(shifted_right))\n",
        "\n",
        "# Left Shift (<<)\n",
        "y = 4\n",
        "shifted_left = y << 3  # Shifting left by 3 positions\n",
        "print(\"Original:\", bin(y))           # Output: 0b100\n",
        "print(\"Shifted Left:\", bin(shifted_left))\n"
      ],
      "metadata": {
        "colab": {
          "base_uri": "https://localhost:8080/"
        },
        "id": "BUkGiNQN80qe",
        "outputId": "443cfe4d-1936-4679-e244-2d022039444f"
      },
      "execution_count": 3,
      "outputs": [
        {
          "output_type": "stream",
          "name": "stdout",
          "text": [
            "Original: 0b1000\n",
            "Shifted Right: 0b10\n",
            "Original: 0b100\n",
            "Shifted Left: 0b100000\n"
          ]
        }
      ]
    },
    {
      "cell_type": "markdown",
      "source": [
        "Q.5. Create a list containing int type data of length 15. Then write a code to check if 10 is\n",
        "present in the list or not."
      ],
      "metadata": {
        "id": "XQe7GBga9J5_"
      }
    },
    {
      "cell_type": "code",
      "source": [
        "list1=[1,2,3,4,5,6,7,8,9,10,11,12,13,14,15]\n",
        "\n",
        "if 10 in list1:\n",
        "  print(\"Int 10 is present\")\n",
        "else:\n",
        "  print(\"The integer is missing form the list\")"
      ],
      "metadata": {
        "colab": {
          "base_uri": "https://localhost:8080/"
        },
        "id": "bzM3VkWy9MD4",
        "outputId": "ea5ae35b-43de-43b2-a296-5b67833e5253"
      },
      "execution_count": 4,
      "outputs": [
        {
          "output_type": "stream",
          "name": "stdout",
          "text": [
            "Int 10 is present\n"
          ]
        }
      ]
    },
    {
      "cell_type": "code",
      "source": [],
      "metadata": {
        "id": "2ycDxYKH9o-t"
      },
      "execution_count": null,
      "outputs": []
    }
  ]
}